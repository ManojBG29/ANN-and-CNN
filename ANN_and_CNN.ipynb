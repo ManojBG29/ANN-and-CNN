{
  "nbformat": 4,
  "nbformat_minor": 0,
  "metadata": {
    "colab": {
      "provenance": []
    },
    "kernelspec": {
      "name": "python3",
      "display_name": "Python 3"
    },
    "language_info": {
      "name": "python"
    }
  },
  "cells": [
    {
      "cell_type": "markdown",
      "source": [
        "Import neccessary libraries"
      ],
      "metadata": {
        "id": "sP5qSAfUAlWL"
      }
    },
    {
      "cell_type": "code",
      "execution_count": 78,
      "metadata": {
        "colab": {
          "base_uri": "https://localhost:8080/",
          "height": 34
        },
        "id": "g88njOpX4GFk",
        "outputId": "85af9b92-a81a-4107-c036-e117c4049e28"
      },
      "outputs": [
        {
          "output_type": "display_data",
          "data": {
            "text/plain": [
              "<Figure size 1500x200 with 0 Axes>"
            ]
          },
          "metadata": {}
        }
      ],
      "source": [
        "import numpy as np\n",
        "import pandas as pd\n",
        "import matplotlib.pyplot as plt\n",
        "import tensorflow as tf\n",
        "from tensorflow import keras\n",
        "from tensorflow.keras import layers, models, datasets\n",
        "plt.figure(figsize=(15,2))\n",
        "from sklearn.metrics import classification_report"
      ]
    },
    {
      "cell_type": "markdown",
      "source": [
        "Training and Testing datasets were formed out of CIFAR-10 dataset which basically consists of images of 10 animals."
      ],
      "metadata": {
        "id": "BycrXlh2Ar1t"
      }
    },
    {
      "cell_type": "code",
      "source": [
        "(x_train,y_train),(x_test, y_test)= datasets.cifar10.load_data()"
      ],
      "metadata": {
        "id": "2qUqyeh84K6h"
      },
      "execution_count": 79,
      "outputs": []
    },
    {
      "cell_type": "markdown",
      "source": [
        "Training and Testing data had 50000 and 10000 rows respectively."
      ],
      "metadata": {
        "id": "J_qP216oA5V3"
      }
    },
    {
      "cell_type": "code",
      "source": [
        "len(x_train),len(x_test)"
      ],
      "metadata": {
        "colab": {
          "base_uri": "https://localhost:8080/"
        },
        "id": "yCag8Juw5oRe",
        "outputId": "d9ae3b3c-28af-4e87-fbbb-25e548bf7286"
      },
      "execution_count": 80,
      "outputs": [
        {
          "output_type": "execute_result",
          "data": {
            "text/plain": [
              "(50000, 10000)"
            ]
          },
          "metadata": {},
          "execution_count": 80
        }
      ]
    },
    {
      "cell_type": "code",
      "source": [
        "[x_train.shape, x_test.shape]"
      ],
      "metadata": {
        "colab": {
          "base_uri": "https://localhost:8080/"
        },
        "id": "POf9t7bZ5sPS",
        "outputId": "2d0ef142-1c53-4182-e74e-852c16ffaecc"
      },
      "execution_count": 81,
      "outputs": [
        {
          "output_type": "execute_result",
          "data": {
            "text/plain": [
              "[(50000, 32, 32, 3), (10000, 32, 32, 3)]"
            ]
          },
          "metadata": {},
          "execution_count": 81
        }
      ]
    },
    {
      "cell_type": "code",
      "source": [
        "x_train[:1][:1]"
      ],
      "metadata": {
        "colab": {
          "base_uri": "https://localhost:8080/"
        },
        "id": "qTv2UTVu54xG",
        "outputId": "f2e9e6e2-5024-4f3c-bd7c-354a89163836"
      },
      "execution_count": 82,
      "outputs": [
        {
          "output_type": "execute_result",
          "data": {
            "text/plain": [
              "array([[[[ 59,  62,  63],\n",
              "         [ 43,  46,  45],\n",
              "         [ 50,  48,  43],\n",
              "         ...,\n",
              "         [158, 132, 108],\n",
              "         [152, 125, 102],\n",
              "         [148, 124, 103]],\n",
              "\n",
              "        [[ 16,  20,  20],\n",
              "         [  0,   0,   0],\n",
              "         [ 18,   8,   0],\n",
              "         ...,\n",
              "         [123,  88,  55],\n",
              "         [119,  83,  50],\n",
              "         [122,  87,  57]],\n",
              "\n",
              "        [[ 25,  24,  21],\n",
              "         [ 16,   7,   0],\n",
              "         [ 49,  27,   8],\n",
              "         ...,\n",
              "         [118,  84,  50],\n",
              "         [120,  84,  50],\n",
              "         [109,  73,  42]],\n",
              "\n",
              "        ...,\n",
              "\n",
              "        [[208, 170,  96],\n",
              "         [201, 153,  34],\n",
              "         [198, 161,  26],\n",
              "         ...,\n",
              "         [160, 133,  70],\n",
              "         [ 56,  31,   7],\n",
              "         [ 53,  34,  20]],\n",
              "\n",
              "        [[180, 139,  96],\n",
              "         [173, 123,  42],\n",
              "         [186, 144,  30],\n",
              "         ...,\n",
              "         [184, 148,  94],\n",
              "         [ 97,  62,  34],\n",
              "         [ 83,  53,  34]],\n",
              "\n",
              "        [[177, 144, 116],\n",
              "         [168, 129,  94],\n",
              "         [179, 142,  87],\n",
              "         ...,\n",
              "         [216, 184, 140],\n",
              "         [151, 118,  84],\n",
              "         [123,  92,  72]]]], dtype=uint8)"
            ]
          },
          "metadata": {},
          "execution_count": 82
        }
      ]
    },
    {
      "cell_type": "code",
      "source": [
        "y_train[:5]"
      ],
      "metadata": {
        "colab": {
          "base_uri": "https://localhost:8080/"
        },
        "id": "hvoGQCSV6LEA",
        "outputId": "f2ac2e80-4a27-4d9e-a78a-c31441720457"
      },
      "execution_count": 83,
      "outputs": [
        {
          "output_type": "execute_result",
          "data": {
            "text/plain": [
              "array([[6],\n",
              "       [9],\n",
              "       [9],\n",
              "       [4],\n",
              "       [1]], dtype=uint8)"
            ]
          },
          "metadata": {},
          "execution_count": 83
        }
      ]
    },
    {
      "cell_type": "markdown",
      "source": [
        "plot_image function was created to instantly plot an image"
      ],
      "metadata": {
        "id": "Fs72vCNDBDSP"
      }
    },
    {
      "cell_type": "code",
      "source": [
        "def plot_image(data,index):\n",
        "    plt.figure(figsize=(15,2))\n",
        "    plt.matshow(data[index])"
      ],
      "metadata": {
        "id": "WceSOam_6X0R"
      },
      "execution_count": 105,
      "outputs": []
    },
    {
      "cell_type": "code",
      "source": [
        "plot_image(x_train,92)"
      ],
      "metadata": {
        "colab": {
          "base_uri": "https://localhost:8080/",
          "height": 454
        },
        "id": "4wbv2kO66lVH",
        "outputId": "633ef6da-fda3-4dcd-b5e4-0268c347c0a2"
      },
      "execution_count": 85,
      "outputs": [
        {
          "output_type": "display_data",
          "data": {
            "text/plain": [
              "<Figure size 1500x200 with 0 Axes>"
            ]
          },
          "metadata": {}
        },
        {
          "output_type": "display_data",
          "data": {
            "text/plain": [
              "<Figure size 480x480 with 1 Axes>"
            ],
            "image/png": "[encoded data removed]"
          },
          "metadata": {}
        }
      ]
    },
    {
      "cell_type": "code",
      "source": [
        "plot_image(x_train,65)"
      ],
      "metadata": {
        "colab": {
          "base_uri": "https://localhost:8080/",
          "height": 454
        },
        "id": "kGhVYGdX7FVU",
        "outputId": "ca74e3c1-0143-4f47-9680-106dc8fcc074"
      },
      "execution_count": 86,
      "outputs": [
        {
          "output_type": "display_data",
          "data": {
            "text/plain": [
              "<Figure size 1500x200 with 0 Axes>"
            ]
          },
          "metadata": {}
        },
        {
          "output_type": "display_data",
          "data": {
            "text/plain": [
              "<Figure size 480x480 with 1 Axes>"
            ],
            "image/png": "[encoded data removed]"
          },
          "metadata": {}
        }
      ]
    },
    {
      "cell_type": "markdown",
      "source": [
        "Normalized the data"
      ],
      "metadata": {
        "id": "o5t0EMI-BUXt"
      }
    },
    {
      "cell_type": "code",
      "source": [
        "x_train=x_train/255\n",
        "x_test= x_test/255"
      ],
      "metadata": {
        "id": "IneNrl3O7fTE"
      },
      "execution_count": 88,
      "outputs": []
    },
    {
      "cell_type": "markdown",
      "source": [
        "Artificial Neural Network was created with relu activation function in the hidden layer and sigmoid activation function in the output layer. 5 epochs were assigned to check the accuracy of the model."
      ],
      "metadata": {
        "id": "YVrYHsR_BaSj"
      }
    },
    {
      "cell_type": "code",
      "source": [
        "ann= keras.Sequential([\n",
        "    keras.layers.Flatten(input_shape=(32,32,3)),\n",
        "    keras.layers.Dense(1000, activation='relu'),\n",
        "    keras.layers.Dense(10, activation='sigmoid')\n",
        "])\n",
        "ann.compile(optimizer='adam',loss='sparse_categorical_crossentropy', metrics='accuracy')\n",
        "ann.fit(x_train,y_train, epochs=5)"
      ],
      "metadata": {
        "colab": {
          "base_uri": "https://localhost:8080/"
        },
        "id": "rZg-y_XU8OHx",
        "outputId": "effb7e43-ba6e-4455-b6fa-2d0202a0654b"
      },
      "execution_count": 40,
      "outputs": [
        {
          "output_type": "stream",
          "name": "stdout",
          "text": [
            "Epoch 1/5\n",
            "1563/1563 [==============================] - 74s 47ms/step - loss: 1.8939 - accuracy: 0.3295\n",
            "Epoch 2/5\n",
            "1563/1563 [==============================] - 80s 51ms/step - loss: 1.6878 - accuracy: 0.3988\n",
            "Epoch 3/5\n",
            "1563/1563 [==============================] - 72s 46ms/step - loss: 1.6202 - accuracy: 0.4246\n",
            "Epoch 4/5\n",
            "1563/1563 [==============================] - 72s 46ms/step - loss: 1.5732 - accuracy: 0.4390\n",
            "Epoch 5/5\n",
            "1563/1563 [==============================] - 73s 47ms/step - loss: 1.5392 - accuracy: 0.4527\n"
          ]
        },
        {
          "output_type": "execute_result",
          "data": {
            "text/plain": [
              "<keras.src.callbacks.History at 0x7f305e337cd0>"
            ]
          },
          "metadata": {},
          "execution_count": 40
        }
      ]
    },
    {
      "cell_type": "code",
      "source": [
        "ann.evaluate(x_test, y_test)"
      ],
      "metadata": {
        "colab": {
          "base_uri": "https://localhost:8080/"
        },
        "id": "iW6pYGqOG66e",
        "outputId": "94dbaf2f-db88-4f85-f08d-371cbf08ba0b"
      },
      "execution_count": 104,
      "outputs": [
        {
          "output_type": "stream",
          "name": "stdout",
          "text": [
            "313/313 [==============================] - 4s 13ms/step - loss: 1.5249 - accuracy: 0.4485\n"
          ]
        },
        {
          "output_type": "execute_result",
          "data": {
            "text/plain": [
              "[1.5249055624008179, 0.44850000739097595]"
            ]
          },
          "metadata": {},
          "execution_count": 104
        }
      ]
    },
    {
      "cell_type": "code",
      "source": [
        "y_pred= ann.predict(x_test)"
      ],
      "metadata": {
        "colab": {
          "base_uri": "https://localhost:8080/"
        },
        "id": "n71YJs2D8_lW",
        "outputId": "799a46ad-4e04-46b6-9ace-9acd723d8686"
      },
      "execution_count": 41,
      "outputs": [
        {
          "output_type": "stream",
          "name": "stdout",
          "text": [
            "313/313 [==============================] - 4s 12ms/step\n"
          ]
        }
      ]
    },
    {
      "cell_type": "code",
      "source": [
        "y_pred[0]"
      ],
      "metadata": {
        "colab": {
          "base_uri": "https://localhost:8080/"
        },
        "id": "b6L-D969-nh3",
        "outputId": "b7a34ca2-a9d6-451f-b254-b4c8db65c7f7"
      },
      "execution_count": 62,
      "outputs": [
        {
          "output_type": "execute_result",
          "data": {
            "text/plain": [
              "array([0.37245715, 0.47191656, 0.36461627, 0.7944636 , 0.13873467,\n",
              "       0.686107  , 0.54885876, 0.05691646, 0.6148168 , 0.158039  ],\n",
              "      dtype=float32)"
            ]
          },
          "metadata": {},
          "execution_count": 62
        }
      ]
    },
    {
      "cell_type": "markdown",
      "source": [
        "argmax function was used to find the maximum value in the array for every element."
      ],
      "metadata": {
        "id": "qEorVOdcCBfC"
      }
    },
    {
      "cell_type": "code",
      "source": [
        "y_pred_classes= [np.argmax(element) for element in y_pred]\n",
        "y_pred_classes[:5]"
      ],
      "metadata": {
        "colab": {
          "base_uri": "https://localhost:8080/"
        },
        "id": "FzaEa00iAQvl",
        "outputId": "fe1ede2c-d024-45ef-c813-47de9391fcfc"
      },
      "execution_count": 90,
      "outputs": [
        {
          "output_type": "execute_result",
          "data": {
            "text/plain": [
              "[3, 9, 8, 8, 4]"
            ]
          },
          "metadata": {},
          "execution_count": 90
        }
      ]
    },
    {
      "cell_type": "code",
      "source": [
        "y_test= y_test.reshape(-1,)\n",
        "y_test[:5]"
      ],
      "metadata": {
        "colab": {
          "base_uri": "https://localhost:8080/"
        },
        "id": "sxbVexlk_zXN",
        "outputId": "abdccbaa-8f8f-49e3-99b1-3fb21f1b109c"
      },
      "execution_count": 91,
      "outputs": [
        {
          "output_type": "execute_result",
          "data": {
            "text/plain": [
              "array([3, 8, 8, 0, 6], dtype=uint8)"
            ]
          },
          "metadata": {},
          "execution_count": 91
        }
      ]
    },
    {
      "cell_type": "code",
      "source": [
        "report= print('The classification report is \\n',classification_report(y_pred_classes,y_test))"
      ],
      "metadata": {
        "colab": {
          "base_uri": "https://localhost:8080/"
        },
        "id": "2eLsBGoH-72k",
        "outputId": "6df9475c-5913-4964-b255-bf3b1c22ec79"
      },
      "execution_count": 64,
      "outputs": [
        {
          "output_type": "stream",
          "name": "stdout",
          "text": [
            "The classification report is \n",
            "               precision    recall  f1-score   support\n",
            "\n",
            "           0       0.57      0.44      0.50      1287\n",
            "           1       0.59      0.57      0.58      1039\n",
            "           2       0.17      0.37      0.24       476\n",
            "           3       0.36      0.31      0.33      1155\n",
            "           4       0.20      0.44      0.27       449\n",
            "           5       0.31      0.39      0.34       794\n",
            "           6       0.66      0.40      0.49      1665\n",
            "           7       0.48      0.52      0.50       920\n",
            "           8       0.63      0.53      0.58      1180\n",
            "           9       0.53      0.51      0.52      1035\n",
            "\n",
            "    accuracy                           0.45     10000\n",
            "   macro avg       0.45      0.45      0.43     10000\n",
            "weighted avg       0.50      0.45      0.46     10000\n",
            "\n"
          ]
        }
      ]
    },
    {
      "cell_type": "markdown",
      "source": [
        "It is evident that ANN performance is not optimal with only 45% accuracy and loe classification report scores as well.\n",
        "Convolutional Neural Network is particularly used for image classification and object detection which can recognise the local patterns and spatial featues on the image. The performance of CNN is below"
      ],
      "metadata": {
        "id": "adlvYYQXCRYe"
      }
    },
    {
      "cell_type": "code",
      "source": [
        "cnn= keras.Sequential([\n",
        "    layers.Conv2D(filters=32, kernel_size=(3,3),activation='relu', input_shape=(32,32,3)),\n",
        "    layers.MaxPooling2D((2,2)),\n",
        "    layers.Conv2D(filters=32, kernel_size=(3,3),activation='relu', input_shape=(32,32,3)),\n",
        "    layers.MaxPooling2D((2,2)),\n",
        "    layers.Flatten(),\n",
        "    layers.Dense(64, activation='relu'),\n",
        "    layers.Dense(10, activation='sigmoid')\n",
        "])\n",
        "cnn.compile(optimizer='adam',loss='sparse_categorical_crossentropy',metrics='accuracy')\n",
        "cnn.fit(x_train, y_train, epochs=5)"
      ],
      "metadata": {
        "colab": {
          "base_uri": "https://localhost:8080/"
        },
        "id": "qtd2zV3W_tFp",
        "outputId": "95ed7e91-f5a9-4d72-d42c-26fedf79d858"
      },
      "execution_count": 94,
      "outputs": [
        {
          "output_type": "stream",
          "name": "stdout",
          "text": [
            "Epoch 1/5\n",
            "1563/1563 [==============================] - 53s 33ms/step - loss: 1.5000 - accuracy: 0.4585\n",
            "Epoch 2/5\n",
            "1563/1563 [==============================] - 52s 33ms/step - loss: 1.1774 - accuracy: 0.5849\n",
            "Epoch 3/5\n",
            "1563/1563 [==============================] - 51s 32ms/step - loss: 1.0484 - accuracy: 0.6330\n",
            "Epoch 4/5\n",
            "1563/1563 [==============================] - 52s 33ms/step - loss: 0.9677 - accuracy: 0.6604\n",
            "Epoch 5/5\n",
            "1563/1563 [==============================] - 50s 32ms/step - loss: 0.9080 - accuracy: 0.6842\n"
          ]
        },
        {
          "output_type": "execute_result",
          "data": {
            "text/plain": [
              "<keras.src.callbacks.History at 0x7f30528f9720>"
            ]
          },
          "metadata": {},
          "execution_count": 94
        }
      ]
    },
    {
      "cell_type": "code",
      "source": [
        "cnn.evaluate(x_test, y_test)"
      ],
      "metadata": {
        "colab": {
          "base_uri": "https://localhost:8080/"
        },
        "id": "SktfpEhTG2XJ",
        "outputId": "0a765cc8-2e1f-41af-d767-4019133e03e0"
      },
      "execution_count": 103,
      "outputs": [
        {
          "output_type": "stream",
          "name": "stdout",
          "text": [
            "313/313 [==============================] - 5s 14ms/step - loss: 0.9915 - accuracy: 0.6621\n"
          ]
        },
        {
          "output_type": "execute_result",
          "data": {
            "text/plain": [
              "[0.9914969801902771, 0.6621000170707703]"
            ]
          },
          "metadata": {},
          "execution_count": 103
        }
      ]
    },
    {
      "cell_type": "code",
      "source": [
        "y_pred= cnn.predict(x_test)\n",
        "y_pred[:5]"
      ],
      "metadata": {
        "colab": {
          "base_uri": "https://localhost:8080/"
        },
        "id": "UV-92yQeEm3V",
        "outputId": "fa29584c-130c-4d0a-975d-ee770aabd430"
      },
      "execution_count": 97,
      "outputs": [
        {
          "output_type": "stream",
          "name": "stdout",
          "text": [
            "313/313 [==============================] - 5s 17ms/step\n"
          ]
        },
        {
          "output_type": "execute_result",
          "data": {
            "text/plain": [
              "array([[4.3377984e-01, 8.9289322e-02, 1.5205628e-01, 9.9190706e-01,\n",
              "        6.1917935e-02, 9.7919321e-01, 9.2392367e-01, 6.6349328e-02,\n",
              "        5.8329004e-01, 1.5854806e-01],\n",
              "       [9.6663362e-01, 9.9977505e-01, 1.0877115e-02, 1.0115872e-02,\n",
              "        4.3929145e-03, 1.9802314e-03, 1.0154655e-03, 2.6303536e-04,\n",
              "        9.9991834e-01, 9.8724973e-01],\n",
              "       [8.8279456e-01, 8.6677402e-01, 2.0332322e-01, 6.0184544e-01,\n",
              "        1.5059939e-01, 1.6319598e-01, 5.8511965e-02, 5.2808348e-02,\n",
              "        9.4689208e-01, 8.1453341e-01],\n",
              "       [9.9386519e-01, 8.7662196e-01, 8.2116616e-01, 1.6541500e-01,\n",
              "        3.4665006e-01, 1.0995199e-02, 1.0958007e-01, 5.1682703e-03,\n",
              "        9.8058075e-01, 2.8205240e-02],\n",
              "       [2.8952083e-02, 1.0899403e-01, 9.5907402e-01, 9.6379590e-01,\n",
              "        9.8567969e-01, 8.9730167e-01, 9.9544847e-01, 2.3151342e-02,\n",
              "        9.5660061e-02, 1.0160509e-02]], dtype=float32)"
            ]
          },
          "metadata": {},
          "execution_count": 97
        }
      ]
    },
    {
      "cell_type": "code",
      "source": [
        "y_pred_classes= [np.argmax(element) for element in y_pred ]\n",
        "y_pred_classes[:5]"
      ],
      "metadata": {
        "colab": {
          "base_uri": "https://localhost:8080/"
        },
        "id": "6kdnmdMkF6-m",
        "outputId": "882229f5-6623-4c4d-e117-d1be1d3b21e8"
      },
      "execution_count": 100,
      "outputs": [
        {
          "output_type": "execute_result",
          "data": {
            "text/plain": [
              "[3, 8, 8, 0, 6]"
            ]
          },
          "metadata": {},
          "execution_count": 100
        }
      ]
    },
    {
      "cell_type": "code",
      "source": [
        "y_test[:5]"
      ],
      "metadata": {
        "colab": {
          "base_uri": "https://localhost:8080/"
        },
        "id": "_VNV2Um6GR-H",
        "outputId": "8ce09eb2-005e-4f43-b1dd-e015d3afc5f8"
      },
      "execution_count": 101,
      "outputs": [
        {
          "output_type": "execute_result",
          "data": {
            "text/plain": [
              "array([3, 8, 8, 0, 6], dtype=uint8)"
            ]
          },
          "metadata": {},
          "execution_count": 101
        }
      ]
    },
    {
      "cell_type": "markdown",
      "source": [
        "It is evident that classification scores have improved a lot with the appliccation of CNN with improve daccuracy. This is due to the special features of CNN to recognise the local patterns and crosses with different filters."
      ],
      "metadata": {
        "id": "Efk7POhoHFer"
      }
    },
    {
      "cell_type": "code",
      "source": [
        "print('The classification report is \\n', classification_report(y_pred_classes, y_test))"
      ],
      "metadata": {
        "colab": {
          "base_uri": "https://localhost:8080/"
        },
        "id": "Te0YS1IWGf4-",
        "outputId": "52f40bb8-2ea8-4ca0-9406-0c67000ab5aa"
      },
      "execution_count": 102,
      "outputs": [
        {
          "output_type": "stream",
          "name": "stdout",
          "text": [
            "The classification report is \n",
            "               precision    recall  f1-score   support\n",
            "\n",
            "           0       0.63      0.78      0.69       809\n",
            "           1       0.81      0.79      0.80      1019\n",
            "           2       0.43      0.66      0.52       659\n",
            "           3       0.53      0.43      0.47      1240\n",
            "           4       0.51      0.70      0.59       735\n",
            "           5       0.66      0.48      0.55      1389\n",
            "           6       0.79      0.71      0.75      1108\n",
            "           7       0.69      0.76      0.72       904\n",
            "           8       0.80      0.75      0.77      1058\n",
            "           9       0.78      0.72      0.75      1079\n",
            "\n",
            "    accuracy                           0.66     10000\n",
            "   macro avg       0.66      0.68      0.66     10000\n",
            "weighted avg       0.67      0.66      0.66     10000\n",
            "\n"
          ]
        }
      ]
    },
    {
      "cell_type": "code",
      "source": [],
      "metadata": {
        "id": "YFktWIMkGxmx"
      },
      "execution_count": null,
      "outputs": []
    }
  ]
}